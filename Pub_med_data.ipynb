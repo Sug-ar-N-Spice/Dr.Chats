{
 "cells": [
  {
   "cell_type": "code",
   "execution_count": 5,
   "metadata": {},
   "outputs": [],
   "source": [
    "import pandas as pd"
   ]
  },
  {
   "cell_type": "code",
   "execution_count": 8,
   "metadata": {},
   "outputs": [],
   "source": [
    "\n",
    "from pymed import PubMed\n",
    "pubmed = PubMed(tool=\"MyTool\", email=\"tyzwhitt@gmail.com\")\n",
    "results = pubmed.query(\"sexually transmitted infections\", max_results=500)"
   ]
  },
  {
   "cell_type": "code",
   "execution_count": 9,
   "metadata": {},
   "outputs": [
    {
     "ename": "HTTPError",
     "evalue": "400 Client Error: Bad Request for url: https://eutils.ncbi.nlm.nih.gov/entrez/eutils/efetch.fcgi?tool=MyTool&email=tyzwhitt%40gmail.com&db=pubmed&id=39394365&id=39394335&id=39394298&id=39394155&id=39394139&id=39394104&id=39394078&id=39393598&id=39393187&id=39393055&id=39392845&id=39392835&id=39392822&id=39392803&id=39392596&id=39392527&id=39392223&id=39390947&id=39390785&id=39390732&id=39390523&id=39390498&id=39390378&id=39390353&id=39390352&id=39390351&id=39390350&id=39390349&id=39390348&id=39390347&id=39390346&id=39390345&id=39390344&id=39390343&id=39390342&id=39390341&id=39390340&id=39390339&id=39390338&id=39390337&id=39390336&id=39390335&id=39390334&id=39390333&id=39390332&id=39390331&id=39390330&id=39390329&id=39390327&id=39390325&id=39390324&id=39390323&id=39390322&id=39390321&id=39390320&id=39390319&id=39390318&id=39390317&id=39390316&id=39390315&id=39390116&id=39389078&id=39388473&id=39388435&id=39388431&id=39388421&id=39388387&id=39388228&id=39386203&id=39385723&id=39385326&id=39385266&id=39385113&id=39385077&id=39384696&id=39384272&id=39384227&id=39383461&id=39383170&id=39383142&id=39382915&id=39382500&id=39382494&id=39382473&id=39382421&id=39382409&id=39382215&id=39382045&id=39382028&id=39381336&id=39381005&id=39380992&id=39380781&id=39380581&id=39380580&id=39380268&id=39380042&id=39380038&id=39379963&id=39379851&id=39379848&id=39379557&id=39379446&id=39379418&id=39379313&id=39379166&id=39378071&id=39377820&id=39377755&id=39377516&id=39377296&id=39377112&id=39376585&id=39376423&id=39375749&id=39375702&id=39375613&id=39375610&id=39375081&id=39375051&id=39374971&id=39374957&id=39374878&id=39374609&id=39374606&id=39374201&id=39373708&id=39373579&id=39373484&id=39373397&id=39373313&id=39372919&id=39371213&id=39371207&id=39371203&id=39370943&id=39370775&id=39370672&id=39370193&id=39370166&id=39370155&id=39370140&id=39369087&id=39368438&id=39367791&id=39366745&id=39366689&id=32644433&id=39367510&id=39367456&id=39367442&id=39367401&id=39367365&id=39367352&id=39367334&id=39367332&id=39367327&id=39366995&id=39366979&id=39365989&id=39365863&id=39365827&id=39365805&id=39365801&id=39365789&id=39365657&id=39365579&id=39365231&id=39365187&id=39365015&id=39364627&id=39363782&id=39363390&id=39363255&id=39363161&id=39363100&id=39361676&id=39361585&id=39361573&id=39361474&id=39361925&id=39361924&id=39361017&id=39361005&id=39360661&id=39360426&id=39360252&id=39360250&id=39359216&id=39359214&id=39358802&id=39358728&id=39358725&id=39358008&id=39357973&id=39357972&id=39357331&id=39353279&id=39352907&id=39357049&id=39356923&id=39356903&id=39356699&id=39356498&id=39356454&id=39354779&id=39354602&id=39354498&id=39354488&id=39354473&id=39352593&id=39352388&id=39352355&id=39352137&id=39352091&id=39351971&id=39351642&id=39350643&id=39350211&id=39350162&id=39350065&id=39349684&id=39349019&id=39348955&id=39348677&id=39348581&id=39348540&id=39348450&id=39348383&id=39348354&id=39348328&id=39348170&id=39347548&id=39347153&id=39346587&id=39346086&id=39345284&id=39345244&id=39345026&id=39344309&id=39344243&id=39344048&id=39343986&id=39343958&id=39343879&id=39343322&id=39343134&id=39342578&id=39342403&id=39342258&retmode=xml",
     "output_type": "error",
     "traceback": [
      "\u001b[1;31m---------------------------------------------------------------------------\u001b[0m",
      "\u001b[1;31mHTTPError\u001b[0m                                 Traceback (most recent call last)",
      "Cell \u001b[1;32mIn[9], line 3\u001b[0m\n\u001b[0;32m      1\u001b[0m df \u001b[38;5;241m=\u001b[39mpd\u001b[38;5;241m.\u001b[39mDataFrame()\n\u001b[1;32m----> 3\u001b[0m \u001b[38;5;28;01mfor\u001b[39;00m article \u001b[38;5;129;01min\u001b[39;00m \u001b[38;5;28;43mlist\u001b[39;49m\u001b[43m(\u001b[49m\u001b[43mresults\u001b[49m\u001b[43m)\u001b[49m:\n\u001b[0;32m      4\u001b[0m     article_df \u001b[38;5;241m=\u001b[39m pd\u001b[38;5;241m.\u001b[39mDataFrame({\u001b[38;5;124m'\u001b[39m\u001b[38;5;124mabstract\u001b[39m\u001b[38;5;124m'\u001b[39m: [article\u001b[38;5;241m.\u001b[39mabstract],\n\u001b[0;32m      5\u001b[0m                                       \u001b[38;5;124m'\u001b[39m\u001b[38;5;124mresults\u001b[39m\u001b[38;5;124m'\u001b[39m: [article\u001b[38;5;241m.\u001b[39mresults],\n\u001b[0;32m      6\u001b[0m                                         \u001b[38;5;124m'\u001b[39m\u001b[38;5;124mauthors\u001b[39m\u001b[38;5;124m'\u001b[39m: [article\u001b[38;5;241m.\u001b[39mauthors],\n\u001b[0;32m      7\u001b[0m                                         \u001b[38;5;124m'\u001b[39m\u001b[38;5;124mtitle\u001b[39m\u001b[38;5;124m'\u001b[39m: [article\u001b[38;5;241m.\u001b[39mtitle] })\n\u001b[0;32m      9\u001b[0m     df \u001b[38;5;241m=\u001b[39m pd\u001b[38;5;241m.\u001b[39mconcat([df, article_df],ignore_index \u001b[38;5;241m=\u001b[39m \u001b[38;5;28;01mTrue\u001b[39;00m)\n",
      "File \u001b[1;32mc:\\Users\\tyzwh\\OneDrive\\AI\\bootcamp\\envs\\dev\\lib\\site-packages\\pymed\\api.py:169\u001b[0m, in \u001b[0;36mPubMed._getArticles\u001b[1;34m(self, article_ids)\u001b[0m\n\u001b[0;32m    166\u001b[0m parameters[\u001b[38;5;124m\"\u001b[39m\u001b[38;5;124mid\u001b[39m\u001b[38;5;124m\"\u001b[39m] \u001b[38;5;241m=\u001b[39m article_ids\n\u001b[0;32m    168\u001b[0m \u001b[38;5;66;03m# Make the request\u001b[39;00m\n\u001b[1;32m--> 169\u001b[0m response \u001b[38;5;241m=\u001b[39m \u001b[38;5;28;43mself\u001b[39;49m\u001b[38;5;241;43m.\u001b[39;49m\u001b[43m_get\u001b[49m\u001b[43m(\u001b[49m\n\u001b[0;32m    170\u001b[0m \u001b[43m    \u001b[49m\u001b[43murl\u001b[49m\u001b[38;5;241;43m=\u001b[39;49m\u001b[38;5;124;43m\"\u001b[39;49m\u001b[38;5;124;43m/entrez/eutils/efetch.fcgi\u001b[39;49m\u001b[38;5;124;43m\"\u001b[39;49m\u001b[43m,\u001b[49m\u001b[43m \u001b[49m\u001b[43mparameters\u001b[49m\u001b[38;5;241;43m=\u001b[39;49m\u001b[43mparameters\u001b[49m\u001b[43m,\u001b[49m\u001b[43m \u001b[49m\u001b[43moutput\u001b[49m\u001b[38;5;241;43m=\u001b[39;49m\u001b[38;5;124;43m\"\u001b[39;49m\u001b[38;5;124;43mxml\u001b[39;49m\u001b[38;5;124;43m\"\u001b[39;49m\n\u001b[0;32m    171\u001b[0m \u001b[43m\u001b[49m\u001b[43m)\u001b[49m\n\u001b[0;32m    173\u001b[0m \u001b[38;5;66;03m# Parse as XML\u001b[39;00m\n\u001b[0;32m    174\u001b[0m root \u001b[38;5;241m=\u001b[39m xml\u001b[38;5;241m.\u001b[39mfromstring(response)\n",
      "File \u001b[1;32mc:\\Users\\tyzwh\\OneDrive\\AI\\bootcamp\\envs\\dev\\lib\\site-packages\\pymed\\api.py:143\u001b[0m, in \u001b[0;36mPubMed._get\u001b[1;34m(self, url, parameters, output)\u001b[0m\n\u001b[0;32m    140\u001b[0m response \u001b[38;5;241m=\u001b[39m requests\u001b[38;5;241m.\u001b[39mget(\u001b[38;5;124mf\u001b[39m\u001b[38;5;124m\"\u001b[39m\u001b[38;5;132;01m{\u001b[39;00mBASE_URL\u001b[38;5;132;01m}\u001b[39;00m\u001b[38;5;132;01m{\u001b[39;00murl\u001b[38;5;132;01m}\u001b[39;00m\u001b[38;5;124m\"\u001b[39m, params\u001b[38;5;241m=\u001b[39mparameters)\n\u001b[0;32m    142\u001b[0m \u001b[38;5;66;03m# Check for any errors\u001b[39;00m\n\u001b[1;32m--> 143\u001b[0m \u001b[43mresponse\u001b[49m\u001b[38;5;241;43m.\u001b[39;49m\u001b[43mraise_for_status\u001b[49m\u001b[43m(\u001b[49m\u001b[43m)\u001b[49m\n\u001b[0;32m    145\u001b[0m \u001b[38;5;66;03m# Add this request to the list of requests made\u001b[39;00m\n\u001b[0;32m    146\u001b[0m \u001b[38;5;28mself\u001b[39m\u001b[38;5;241m.\u001b[39m_requestsMade\u001b[38;5;241m.\u001b[39mappend(datetime\u001b[38;5;241m.\u001b[39mdatetime\u001b[38;5;241m.\u001b[39mnow())\n",
      "File \u001b[1;32mc:\\Users\\tyzwh\\OneDrive\\AI\\bootcamp\\envs\\dev\\lib\\site-packages\\requests\\models.py:1021\u001b[0m, in \u001b[0;36mResponse.raise_for_status\u001b[1;34m(self)\u001b[0m\n\u001b[0;32m   1016\u001b[0m     http_error_msg \u001b[38;5;241m=\u001b[39m (\n\u001b[0;32m   1017\u001b[0m         \u001b[38;5;124mf\u001b[39m\u001b[38;5;124m\"\u001b[39m\u001b[38;5;132;01m{\u001b[39;00m\u001b[38;5;28mself\u001b[39m\u001b[38;5;241m.\u001b[39mstatus_code\u001b[38;5;132;01m}\u001b[39;00m\u001b[38;5;124m Server Error: \u001b[39m\u001b[38;5;132;01m{\u001b[39;00mreason\u001b[38;5;132;01m}\u001b[39;00m\u001b[38;5;124m for url: \u001b[39m\u001b[38;5;132;01m{\u001b[39;00m\u001b[38;5;28mself\u001b[39m\u001b[38;5;241m.\u001b[39murl\u001b[38;5;132;01m}\u001b[39;00m\u001b[38;5;124m\"\u001b[39m\n\u001b[0;32m   1018\u001b[0m     )\n\u001b[0;32m   1020\u001b[0m \u001b[38;5;28;01mif\u001b[39;00m http_error_msg:\n\u001b[1;32m-> 1021\u001b[0m     \u001b[38;5;28;01mraise\u001b[39;00m HTTPError(http_error_msg, response\u001b[38;5;241m=\u001b[39m\u001b[38;5;28mself\u001b[39m)\n",
      "\u001b[1;31mHTTPError\u001b[0m: 400 Client Error: Bad Request for url: https://eutils.ncbi.nlm.nih.gov/entrez/eutils/efetch.fcgi?tool=MyTool&email=tyzwhitt%40gmail.com&db=pubmed&id=39394365&id=39394335&id=39394298&id=39394155&id=39394139&id=39394104&id=39394078&id=39393598&id=39393187&id=39393055&id=39392845&id=39392835&id=39392822&id=39392803&id=39392596&id=39392527&id=39392223&id=39390947&id=39390785&id=39390732&id=39390523&id=39390498&id=39390378&id=39390353&id=39390352&id=39390351&id=39390350&id=39390349&id=39390348&id=39390347&id=39390346&id=39390345&id=39390344&id=39390343&id=39390342&id=39390341&id=39390340&id=39390339&id=39390338&id=39390337&id=39390336&id=39390335&id=39390334&id=39390333&id=39390332&id=39390331&id=39390330&id=39390329&id=39390327&id=39390325&id=39390324&id=39390323&id=39390322&id=39390321&id=39390320&id=39390319&id=39390318&id=39390317&id=39390316&id=39390315&id=39390116&id=39389078&id=39388473&id=39388435&id=39388431&id=39388421&id=39388387&id=39388228&id=39386203&id=39385723&id=39385326&id=39385266&id=39385113&id=39385077&id=39384696&id=39384272&id=39384227&id=39383461&id=39383170&id=39383142&id=39382915&id=39382500&id=39382494&id=39382473&id=39382421&id=39382409&id=39382215&id=39382045&id=39382028&id=39381336&id=39381005&id=39380992&id=39380781&id=39380581&id=39380580&id=39380268&id=39380042&id=39380038&id=39379963&id=39379851&id=39379848&id=39379557&id=39379446&id=39379418&id=39379313&id=39379166&id=39378071&id=39377820&id=39377755&id=39377516&id=39377296&id=39377112&id=39376585&id=39376423&id=39375749&id=39375702&id=39375613&id=39375610&id=39375081&id=39375051&id=39374971&id=39374957&id=39374878&id=39374609&id=39374606&id=39374201&id=39373708&id=39373579&id=39373484&id=39373397&id=39373313&id=39372919&id=39371213&id=39371207&id=39371203&id=39370943&id=39370775&id=39370672&id=39370193&id=39370166&id=39370155&id=39370140&id=39369087&id=39368438&id=39367791&id=39366745&id=39366689&id=32644433&id=39367510&id=39367456&id=39367442&id=39367401&id=39367365&id=39367352&id=39367334&id=39367332&id=39367327&id=39366995&id=39366979&id=39365989&id=39365863&id=39365827&id=39365805&id=39365801&id=39365789&id=39365657&id=39365579&id=39365231&id=39365187&id=39365015&id=39364627&id=39363782&id=39363390&id=39363255&id=39363161&id=39363100&id=39361676&id=39361585&id=39361573&id=39361474&id=39361925&id=39361924&id=39361017&id=39361005&id=39360661&id=39360426&id=39360252&id=39360250&id=39359216&id=39359214&id=39358802&id=39358728&id=39358725&id=39358008&id=39357973&id=39357972&id=39357331&id=39353279&id=39352907&id=39357049&id=39356923&id=39356903&id=39356699&id=39356498&id=39356454&id=39354779&id=39354602&id=39354498&id=39354488&id=39354473&id=39352593&id=39352388&id=39352355&id=39352137&id=39352091&id=39351971&id=39351642&id=39350643&id=39350211&id=39350162&id=39350065&id=39349684&id=39349019&id=39348955&id=39348677&id=39348581&id=39348540&id=39348450&id=39348383&id=39348354&id=39348328&id=39348170&id=39347548&id=39347153&id=39346587&id=39346086&id=39345284&id=39345244&id=39345026&id=39344309&id=39344243&id=39344048&id=39343986&id=39343958&id=39343879&id=39343322&id=39343134&id=39342578&id=39342403&id=39342258&retmode=xml"
     ]
    }
   ],
   "source": [
    "df =pd.DataFrame()\n",
    "\n",
    "for article in list(results):\n",
    "    article_df = pd.DataFrame({'abstract': [article.abstract],\n",
    "                                      'results': [article.results],\n",
    "                                        'authors': [article.authors],\n",
    "                                        'title': [article.title] })\n",
    "\n",
    "    df = pd.concat([df, article_df],ignore_index = True)\n"
   ]
  },
  {
   "cell_type": "code",
   "execution_count": 27,
   "metadata": {},
   "outputs": [
    {
     "data": {
      "text/html": [
       "<div>\n",
       "<style scoped>\n",
       "    .dataframe tbody tr th:only-of-type {\n",
       "        vertical-align: middle;\n",
       "    }\n",
       "\n",
       "    .dataframe tbody tr th {\n",
       "        vertical-align: top;\n",
       "    }\n",
       "\n",
       "    .dataframe thead th {\n",
       "        text-align: right;\n",
       "    }\n",
       "</style>\n",
       "<table border=\"1\" class=\"dataframe\">\n",
       "  <thead>\n",
       "    <tr style=\"text-align: right;\">\n",
       "      <th></th>\n",
       "    </tr>\n",
       "  </thead>\n",
       "  <tbody>\n",
       "  </tbody>\n",
       "</table>\n",
       "</div>"
      ],
      "text/plain": [
       "Empty DataFrame\n",
       "Columns: []\n",
       "Index: []"
      ]
     },
     "execution_count": 27,
     "metadata": {},
     "output_type": "execute_result"
    }
   ],
   "source": [
    "df.head()"
   ]
  },
  {
   "cell_type": "code",
   "execution_count": 11,
   "metadata": {},
   "outputs": [],
   "source": [
    "# Save to CSV\n",
    "output_file = \"sti_dataset.csv\"\n",
    "df.to_csv(output_file, index=False)"
   ]
  },
  {
   "cell_type": "code",
   "execution_count": 5,
   "metadata": {},
   "outputs": [
    {
     "name": "stdout",
     "output_type": "stream",
     "text": [
      "Human papillomavirus (HPV) infections are a significant public health concern as they cause various cancers, including those of the cervix, vulva, vagina, anus, penis, and oropharynx, in both women and men.\n",
      "Individuals with immune-mediated inflammatory diseases, particularly systemic lupus erythematosus, have an increased risk of developing persistent HPV infection and subsequent precancerous lesions due to their immunosuppression.\n",
      "Vaccination and screening for precancerous lesions are 2 central management strategies that must be implemented in patients with immune-mediated inflammatory diseases. Although HPV vaccination has been proven to be safe and effective in these patients, coverage remains low and should be encouraged. Screening for cervical cancer should be more widely implemented in this population, as recommended in guidelines for other immunosuppressed patients.\n",
      "Catch-up vaccination, vaginal self-sampling screening for HPV detection, and therapeutic vaccination are new options that should be considered.\n"
     ]
    }
   ],
   "source": [
    "print(df['abstract'][0])"
   ]
  },
  {
   "cell_type": "code",
   "execution_count": 6,
   "metadata": {},
   "outputs": [
    {
     "name": "stdout",
     "output_type": "stream",
     "text": [
      "None\n"
     ]
    }
   ],
   "source": [
    "print(df['results'][0])"
   ]
  }
 ],
 "metadata": {
  "kernelspec": {
   "display_name": "dev",
   "language": "python",
   "name": "python3"
  },
  "language_info": {
   "codemirror_mode": {
    "name": "ipython",
    "version": 3
   },
   "file_extension": ".py",
   "mimetype": "text/x-python",
   "name": "python",
   "nbconvert_exporter": "python",
   "pygments_lexer": "ipython3",
   "version": "3.10.14"
  }
 },
 "nbformat": 4,
 "nbformat_minor": 2
}
